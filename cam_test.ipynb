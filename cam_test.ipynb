{
 "cells": [
  {
   "cell_type": "code",
   "execution_count": 23,
   "metadata": {},
   "outputs": [],
   "source": [
    "import cv2\n",
    "import numpy as np"
   ]
  },
  {
   "cell_type": "code",
   "execution_count": 24,
   "metadata": {},
   "outputs": [],
   "source": [
    "mtx1 = np.load('ugreen_left_parameters/mtx.npy')\n",
    "mtx2 = np.load('ugreen_right_parameters/mtx.npy')\n",
    "dist1 = np.load('ugreen_left_parameters/dist.npy')\n",
    "dist2 = np.load('ugreen_left_parameters/dist.npy')"
   ]
  },
  {
   "cell_type": "code",
   "execution_count": 25,
   "metadata": {},
   "outputs": [],
   "source": [
    "rvecs = np.array([0, 0, 0])  # Keep as float32\n",
    "tvecs = np.array([8.2, 0, 0])  # Keep as float32\n",
    "\n",
    "# Define image size as a tuple of integers\n",
    "imageSize = (640, 480)  # Image width and height as a tuple of integers"
   ]
  },
  {
   "cell_type": "code",
   "execution_count": 26,
   "metadata": {},
   "outputs": [],
   "source": [
    "R1, R2, P1, P2, Q, validPixROI1, validPixROI2 = cv2.stereoRectify(\n",
    "    mtx1, dist1, mtx2, dist2, imageSize, rvecs, tvecs\n",
    ")\n",
    "map1x, map1y = cv2.initUndistortRectifyMap(mtx1, dist1, R1, P1, imageSize, cv2.CV_32FC1)\n",
    "map2x, map2y = cv2.initUndistortRectifyMap(mtx2, dist2, R2, P2, imageSize, cv2.CV_32FC1)\n",
    "\n",
    "# Remap the images to rectify them"
   ]
  },
  {
   "cell_type": "code",
   "execution_count": 27,
   "metadata": {},
   "outputs": [],
   "source": [
    "left = cv2.VideoCapture(0, cv2.CAP_DSHOW)\n",
    "right = cv2.VideoCapture(1, cv2.CAP_DSHOW)\n",
    "\n",
    "\n",
    "while True:\n",
    "    \n",
    "    ret1, frame1 = left.read()\n",
    "    ret2, frame2 = right.read()\n",
    "\n",
    "    cv2.imshow('Left', frame1)\n",
    "    cv2.imshow('Right', frame2)\n",
    "\n",
    "    rectified_left = cv2.remap(frame1, map1x, map1y, cv2.INTER_LINEAR)\n",
    "    rectified_right = cv2.remap(frame2, map2x, map2y, cv2.INTER_LINEAR)\n",
    "\n",
    "    undistorted_img_left = cv2.undistort(frame1, mtx1, dist1)\n",
    "    undistorted_img_right = cv2.undistort(frame2, mtx2, dist2)\n",
    "\n",
    "    # cv2.imshow('Undistorted_left', undistorted_img_left)\n",
    "    # cv2.imshow('Undistorted_right', undistorted_img_right)\n",
    "    window_size = 10\n",
    "\n",
    "    # Disparity calculation with StereoSGBM\n",
    "    # stereo = cv2.StereoSGBM_create(\n",
    "    #     minDisparity=0,\n",
    "    #     numDisparities=96,  # Should be a multiple of 16\n",
    "    #     blockSize=5,\n",
    "    #     P1=8 * 3 * window_size ** 2,  # Regularization term (adjust as needed)\n",
    "    #     P2=32 * 3 * window_size ** 2,  # Smoothness term (adjust as needed)\n",
    "    #     disp12MaxDiff=1,\n",
    "    #     uniquenessRatio=5,\n",
    "    #     speckleWindowSize=100,\n",
    "    #     speckleRange=32\n",
    "    # )\n",
    "\n",
    "    stereo = cv2.StereoSGBM_create(\n",
    "        minDisparity=0,\n",
    "        numDisparities=80,  # Should be a multiple of 16\n",
    "        blockSize=5,\n",
    "        P1=8 * 3 * window_size ** 2,  # Regularization term (adjust as needed)\n",
    "        P2=32 * 3 * window_size ** 2,  # Smoothness term (adjust as needed)\n",
    "        disp12MaxDiff=1,\n",
    "        uniquenessRatio=10,\n",
    "        speckleWindowSize=100,\n",
    "        speckleRange=32\n",
    "    )\n",
    "\n",
    "    # Compute the disparity map\n",
    "    disparity_map = stereo.compute(rectified_left, rectified_right)\n",
    "\n",
    "    # Reproject to 3D\n",
    "    depth_map = cv2.reprojectImageTo3D(disparity_map, Q)\n",
    "\n",
    "    # Display the disparity map\n",
    "    cv2.imshow(\"rect_left\", rectified_left)\n",
    "    cv2.imshow(\"rect_right\", rectified_right)\n",
    "    cv2.imshow(\"Disparity Map\", disparity_map / disparity_map.max())  # Normalize for better visualization\n",
    "    # cv2.imshow('depth_map', depth_map)\n",
    "    if cv2.waitKey(1) &  0xFF == 27:\n",
    "        break\n",
    "\n",
    "left.release()\n",
    "right.release()\n",
    "\n",
    "cv2.destroyAllWindows()\n"
   ]
  }
 ],
 "metadata": {
  "kernelspec": {
   "display_name": "Python 3",
   "language": "python",
   "name": "python3"
  },
  "language_info": {
   "codemirror_mode": {
    "name": "ipython",
    "version": 3
   },
   "file_extension": ".py",
   "mimetype": "text/x-python",
   "name": "python",
   "nbconvert_exporter": "python",
   "pygments_lexer": "ipython3",
   "version": "3.11.6"
  }
 },
 "nbformat": 4,
 "nbformat_minor": 2
}
