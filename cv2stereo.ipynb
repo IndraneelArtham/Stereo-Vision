{
 "cells": [
  {
   "cell_type": "code",
   "execution_count": 1,
   "metadata": {},
   "outputs": [],
   "source": [
    "import numpy as np\n",
    "import cv2"
   ]
  },
  {
   "cell_type": "code",
   "execution_count": 2,
   "metadata": {},
   "outputs": [],
   "source": [
    "mtx = np.array([[550.742541314096,   0,         309.3349978427164],\n",
    "                [  0,         551.2202584096859, 226.39975185622637],\n",
    "                [  0,           0,           1        ]])\n",
    "\n",
    "dist = np.array([0.15262652,  0.33736018,  0.01009325,  0.00782211, -1.21224862])\n"
   ]
  },
  {
   "cell_type": "code",
   "execution_count": 3,
   "metadata": {},
   "outputs": [],
   "source": [
    "def basis_from_deg(camera_degrees):\n",
    "\n",
    "    x, y, z = np.deg2rad(camera_degrees)\n",
    "\n",
    "    rx = np.array([[1, 0, 0],\n",
    "                   [0, np.cos(x), -np.sin(x)],\n",
    "                   [0, np.sin(x), np.cos(x)]])\n",
    "    \n",
    "    ry = np.array([[np.cos(y), 0, np.sin(y)],\n",
    "                   [0, 1, 0],\n",
    "                   [-np.sin(y), 0, np.cos(y)]])\n",
    "\n",
    "    rz = np.array([[np.cos(z), -np.sin(z), 0],\n",
    "                   [np.sin(z), np.cos(z), 0],\n",
    "                   [0, 0, 1]])\n",
    "    \n",
    "    basis = np.matmul(rz, np.matmul(ry, rx))\n",
    "    \n",
    "    return basis"
   ]
  },
  {
   "cell_type": "code",
   "execution_count": 4,
   "metadata": {},
   "outputs": [],
   "source": [
    "imageSize = (640, 480)\n",
    "\n",
    "# Rotation matrices for both cameras\n",
    "R1 = basis_from_deg([0, 0, 0])  # Replace with your left camera rotation matrix\n",
    "R2 = R1.copy()  # Replace with your right camera rotation matrix\n",
    "\n",
    "# Translation vector between the cameras\n",
    "T = np.array([8.2, 0 ,0])  # Replace with your translation vector\n",
    "\n",
    "# Calculate relative rotation\n",
    "R_relative = np.dot(R2, R1.T)\n",
    "\n",
    "# Perform stereo rectification\n",
    "R1_rect, R2_rect, P1, P2, Q, _, _ = cv2.stereoRectify(\n",
    "    mtx, dist,\n",
    "    mtx, dist,\n",
    "    imageSize, R_relative, T\n",
    ")\n",
    "\n",
    "# After this, you can proceed with creating the rectification maps and remapping the images\n"
   ]
  },
  {
   "cell_type": "code",
   "execution_count": 5,
   "metadata": {},
   "outputs": [
    {
     "name": "stdout",
     "output_type": "stream",
     "text": [
      "[[1. 0. 0.]\n",
      " [0. 1. 0.]\n",
      " [0. 0. 1.]] [[1. 0. 0.]\n",
      " [0. 1. 0.]\n",
      " [0. 0. 1.]]\n"
     ]
    }
   ],
   "source": [
    "print(R1_rect, R2_rect)"
   ]
  },
  {
   "cell_type": "code",
   "execution_count": 6,
   "metadata": {},
   "outputs": [
    {
     "name": "stdout",
     "output_type": "stream",
     "text": [
      "[[551.22025841   0.         311.76721954   0.        ]\n",
      " [  0.         551.22025841 229.44722748   0.        ]\n",
      " [  0.           0.           1.           0.        ]] [[5.51220258e+02 0.00000000e+00 3.11767220e+02 4.52000612e+03]\n",
      " [0.00000000e+00 5.51220258e+02 2.29447227e+02 0.00000000e+00]\n",
      " [0.00000000e+00 0.00000000e+00 1.00000000e+00 0.00000000e+00]]\n"
     ]
    }
   ],
   "source": [
    "print(P1, P2)"
   ]
  },
  {
   "cell_type": "code",
   "execution_count": 7,
   "metadata": {},
   "outputs": [
    {
     "name": "stdout",
     "output_type": "stream",
     "text": [
      "[[1. 0. 0.]\n",
      " [0. 1. 0.]\n",
      " [0. 0. 1.]]\n"
     ]
    }
   ],
   "source": [
    "print(R_relative)"
   ]
  },
  {
   "cell_type": "code",
   "execution_count": 8,
   "metadata": {},
   "outputs": [
    {
     "ename": "NameError",
     "evalue": "name 'cameraMatrix2' is not defined",
     "output_type": "error",
     "traceback": [
      "\u001b[1;31m---------------------------------------------------------------------------\u001b[0m",
      "\u001b[1;31mNameError\u001b[0m                                 Traceback (most recent call last)",
      "Cell \u001b[1;32mIn[8], line 16\u001b[0m\n\u001b[0;32m     11\u001b[0m imageSize \u001b[38;5;241m=\u001b[39m (\u001b[38;5;241m1152\u001b[39m, \u001b[38;5;241m648\u001b[39m)\n\u001b[0;32m     13\u001b[0m \u001b[38;5;66;03m# rectification\u001b[39;00m\n\u001b[0;32m     14\u001b[0m R1, R2, P1, P2, Q, _, _ \u001b[38;5;241m=\u001b[39m cv2\u001b[38;5;241m.\u001b[39mstereoRectify(\n\u001b[0;32m     15\u001b[0m     cameraMatrix1, distCoeffs1, \n\u001b[1;32m---> 16\u001b[0m     \u001b[43mcameraMatrix2\u001b[49m, distCoeffs2, \n\u001b[0;32m     17\u001b[0m     imageSize, R, T, \n\u001b[0;32m     18\u001b[0m     alpha\u001b[38;5;241m=\u001b[39m\u001b[38;5;241m0\u001b[39m\n\u001b[0;32m     19\u001b[0m )\n\u001b[0;32m     21\u001b[0m \u001b[38;5;66;03m# rectification map\u001b[39;00m\n\u001b[0;32m     22\u001b[0m map1x, map1y \u001b[38;5;241m=\u001b[39m cv2\u001b[38;5;241m.\u001b[39minitUndistortRectifyMap(\n\u001b[0;32m     23\u001b[0m     cameraMatrix1, distCoeffs1, R1, P1, imageSize, cv2\u001b[38;5;241m.\u001b[39mCV_32FC1\n\u001b[0;32m     24\u001b[0m )\n",
      "\u001b[1;31mNameError\u001b[0m: name 'cameraMatrix2' is not defined"
     ]
    }
   ],
   "source": [
    "import cv2\n",
    "import numpy as np\n",
    "\n",
    "\n",
    "cameraMatrix1 = mtx  \n",
    "distCoeffs1 = np.zeros((1, 5))    \n",
    "distCoeffs2 = np.zeros((1, 5))\n",
    "R = R_relative             \n",
    "T = T      \n",
    "\n",
    "imageSize = (1152, 648)\n",
    "\n",
    "# rectification\n",
    "R1, R2, P1, P2, Q, _, _ = cv2.stereoRectify(\n",
    "    cameraMatrix1, distCoeffs1, \n",
    "    cameraMatrix2, distCoeffs2, \n",
    "    imageSize, R, T, \n",
    "    alpha=0\n",
    ")\n",
    "\n",
    "# rectification map\n",
    "map1x, map1y = cv2.initUndistortRectifyMap(\n",
    "    cameraMatrix1, distCoeffs1, R1, P1, imageSize, cv2.CV_32FC1\n",
    ")\n",
    "map2x, map2y = cv2.initUndistortRectifyMap(\n",
    "    cameraMatrix2, distCoeffs2, R2, P2, imageSize, cv2.CV_32FC1\n",
    ")\n",
    "\n",
    "imgL = cv2.imread(\"Images/tsukuba_left.png\")\n",
    "imgR = cv2.imread(\"Images/tsukuba_right.png\")\n",
    "\n",
    "#rectifying\n",
    "rectifiedL = cv2.remap(imgL, map1x, map1y, cv2.INTER_LINEAR)\n",
    "rectifiedR = cv2.remap(imgR, map2x, map2y, cv2.INTER_LINEAR)\n",
    "\n",
    "cv2.imwrite('rectified_left.jpg', rectifiedL)\n",
    "cv2.imwrite('rectified_right.jpg', rectifiedR)\n",
    "\n",
    "\n",
    "while True:\n",
    "    cv2.imshow('Left Image', imgL)\n",
    "    cv2.imshow('Right Image', imgR)\n",
    "    cv2.imshow('Rectified Left Image', rectifiedL)\n",
    "    cv2.imshow('Rectified Right Image', rectifiedR)\n",
    "    if cv2.waitKey(1) & 0xFF == 27:  # Press 'Esc' to exit\n",
    "        break\n",
    "\n",
    "cv2.destroyAllWindows()\n",
    "\n",
    "\n",
    "cv2.waitKey(0)\n",
    "cv2.destroyAllWindows()\n"
   ]
  },
  {
   "cell_type": "code",
   "execution_count": 9,
   "metadata": {},
   "outputs": [],
   "source": [
    "def depth_from_disparity(disparity):\n",
    "    return (1 * mtx[0][0]) / disparity"
   ]
  },
  {
   "cell_type": "code",
   "execution_count": 10,
   "metadata": {},
   "outputs": [],
   "source": [
    "def depth_f(b, fx, u1, u2):\n",
    "    return (b * fx) / (u1 - u2)"
   ]
  },
  {
   "cell_type": "code",
   "execution_count": 11,
   "metadata": {},
   "outputs": [
    {
     "name": "stdout",
     "output_type": "stream",
     "text": [
      "1.9090909090909092\n"
     ]
    }
   ],
   "source": [
    "print(depth_f(0.1, 420, 544, 522))"
   ]
  },
  {
   "cell_type": "code",
   "execution_count": 12,
   "metadata": {},
   "outputs": [
    {
     "ename": "NameError",
     "evalue": "name 'rectifiedL' is not defined",
     "output_type": "error",
     "traceback": [
      "\u001b[1;31m---------------------------------------------------------------------------\u001b[0m",
      "\u001b[1;31mNameError\u001b[0m                                 Traceback (most recent call last)",
      "Cell \u001b[1;32mIn[12], line 3\u001b[0m\n\u001b[0;32m      1\u001b[0m stereo \u001b[38;5;241m=\u001b[39m cv2\u001b[38;5;241m.\u001b[39mStereoBM\u001b[38;5;241m.\u001b[39mcreate(numDisparities\u001b[38;5;241m=\u001b[39m\u001b[38;5;241m48\u001b[39m, blockSize\u001b[38;5;241m=\u001b[39m\u001b[38;5;241m9\u001b[39m)\n\u001b[1;32m----> 3\u001b[0m left \u001b[38;5;241m=\u001b[39m cv2\u001b[38;5;241m.\u001b[39mcvtColor(\u001b[43mrectifiedL\u001b[49m, cv2\u001b[38;5;241m.\u001b[39mCOLOR_BGR2GRAY)\n\u001b[0;32m      4\u001b[0m right \u001b[38;5;241m=\u001b[39m cv2\u001b[38;5;241m.\u001b[39mcvtColor(rectifiedR, cv2\u001b[38;5;241m.\u001b[39mCOLOR_BGR2GRAY)\n\u001b[0;32m      6\u001b[0m disparity \u001b[38;5;241m=\u001b[39m stereo\u001b[38;5;241m.\u001b[39mcompute(right, left)\n",
      "\u001b[1;31mNameError\u001b[0m: name 'rectifiedL' is not defined"
     ]
    }
   ],
   "source": [
    "stereo = cv2.StereoBM.create(numDisparities=48, blockSize=9)\n",
    "\n",
    "left = cv2.cvtColor(rectifiedL, cv2.COLOR_BGR2GRAY)\n",
    "right = cv2.cvtColor(rectifiedR, cv2.COLOR_BGR2GRAY)\n",
    "\n",
    "disparity = stereo.compute(right, left)\n",
    "while True:\n",
    "    # cv2.imshow('left', left)\n",
    "    # cv2.imshow('right', right)\n",
    "    # cv2.imshow('disparity', disparity)\n",
    "    depth_image = depth_from_disparity(disparity)\n",
    "    cv2.imshow('depth', depth_image)\n",
    "    if cv2.waitKey(1) & 0xFF == 27:\n",
    "        break\n",
    "\n",
    "cv2.destroyAllWindows()"
   ]
  }
 ],
 "metadata": {
  "kernelspec": {
   "display_name": "Python 3",
   "language": "python",
   "name": "python3"
  },
  "language_info": {
   "codemirror_mode": {
    "name": "ipython",
    "version": 3
   },
   "file_extension": ".py",
   "mimetype": "text/x-python",
   "name": "python",
   "nbconvert_exporter": "python",
   "pygments_lexer": "ipython3",
   "version": "3.11.6"
  }
 },
 "nbformat": 4,
 "nbformat_minor": 2
}
