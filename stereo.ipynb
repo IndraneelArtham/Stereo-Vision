{
 "cells": [
  {
   "cell_type": "code",
   "execution_count": null,
   "metadata": {},
   "outputs": [],
   "source": [
    "import numpy as np\n",
    "import matplotlib.pyplot as plt\n",
    "import cv2\n",
    "np.set_printoptions(suppress= True)"
   ]
  },
  {
   "cell_type": "code",
   "execution_count": null,
   "metadata": {},
   "outputs": [],
   "source": [
    "img1_path = \"Images/img1_1.45m.png\"\n",
    "img2_path = \"Images/img2_1.55m.png\"\n",
    "\n",
    "img1 = cv2.cvtColor(cv2.imread(img1_path), cv2.COLOR_BGR2RGB)\n",
    "img2 = cv2.cvtColor(cv2.imread(img2_path), cv2.COLOR_BGR2RGB)\n",
    "\n",
    "diff = cv2.absdiff(img1, img2)\n",
    "\n",
    "figure, axis = plt.subplots(1, 3, figsize=(15, 5)) \n",
    "  \n",
    "axis[0].imshow(img1)\n",
    "axis[1].imshow(img2)\n",
    "axis[2].imshow(diff)\n",
    "\n",
    "plt.imshow(diff)\n",
    "plt.show() \n"
   ]
  },
  {
   "cell_type": "markdown",
   "metadata": {},
   "source": [
    "## Coordinates of all Objects\n",
    "\n",
    "### Cube\n",
    "\n",
    "Size\n",
    "X: 1m Y: 1m Z: 1m\n",
    "\n",
    "Position \n",
    "X: 0.5m Y: 0.5m Z: 0.5m\n",
    "\n",
    "Rotation\n",
    "X: 0 Y: 0 Z: 0\n",
    "\n",
    "### Camera1\n",
    "\n",
    "FOV\n",
    "75\n",
    "\n",
    "Position \n",
    "X: 1.45m Y: 1.5m Z: 2m\n",
    "\n",
    "Rotation\n",
    "X: -25 Y: 25 Z: 0\n",
    "\n",
    "### Camera2\n",
    "\n",
    "FOV\n",
    "75\n",
    "\n",
    "Position \n",
    "X: 1.55m Y: 1.5m Z: 2m\n",
    "\n",
    "Rotation\n",
    "X: -25 Y: 25 Z: 0\n"
   ]
  },
  {
   "cell_type": "markdown",
   "metadata": {},
   "source": [
    "# Calibrating Cameras"
   ]
  },
  {
   "cell_type": "markdown",
   "metadata": {},
   "source": [
    "Let our Point be Xw = (1, 1, 1) in WCF\n",
    "\n",
    "(Coordinate Transformation)\n",
    "\n",
    "To find Xc = (xc, yc, zc) in Camera Coordinate Frame\n",
    "\n",
    "(Perspective Projection)\n",
    "\n",
    "To find Xi = (xi, yi) in Image Coordinates "
   ]
  },
  {
   "cell_type": "markdown",
   "metadata": {
    "vscode": {
     "languageId": "bat"
    }
   },
   "source": [
    "Let our point on the 3d object be Xw = (0.5, 0.5, 1)\n",
    "The pixel coordinates are u,v = (461, 416)"
   ]
  },
  {
   "cell_type": "code",
   "execution_count": 24,
   "metadata": {},
   "outputs": [
    {
     "name": "stdout",
     "output_type": "stream",
     "text": [
      "[[ 0.93969262  0.34202014  0.        ]\n",
      " [-0.34202014  0.93969262  0.        ]\n",
      " [ 0.          0.          1.        ]]\n"
     ]
    }
   ],
   "source": [
    "def basis_from_deg(camera_degrees):\n",
    "\n",
    "    x, y, z = np.deg2rad(camera_degrees)\n",
    "\n",
    "    rx = np.array([[1, 0, 0],\n",
    "                   [0, np.cos(x), -np.sin(x)],\n",
    "                   [0, np.sin(x), np.cos(x)]])\n",
    "    \n",
    "    ry = np.array([[np.cos(y), 0, np.sin(y)],\n",
    "                   [0, 1, 0],\n",
    "                   [-np.sin(y), 0, np.cos(y)]])\n",
    "\n",
    "    rz = np.array([[np.cos(z), -np.sin(z), 0],\n",
    "                   [np.sin(z), np.cos(z), 0],\n",
    "                   [0, 0, 1]])\n",
    "    \n",
    "    basis = np.matmul(rz, np.matmul(ry, rx))\n",
    "    \n",
    "    return basis\n",
    "\n",
    "print(basis_from_deg([0, 0, -20]))"
   ]
  },
  {
   "cell_type": "code",
   "execution_count": 26,
   "metadata": {},
   "outputs": [],
   "source": [
    "def unproject_position(intrinsic_matrix, camera_rotation, camera_translation, point_position):\n",
    "    fx, fy, ox, oy = intrinsic_matrix[0][0], intrinsic_matrix[1][1], intrinsic_matrix[0][2], intrinsic_matrix[1][2]\n",
    "    basis = basis_from_deg(camera_rotation)\n",
    "    translation = np.array(camera_translation)\n",
    "    basis_inv = np.linalg.inv(basis)\n",
    "    translation_inv = -np.dot(basis_inv, translation)\n",
    "    point_world_position = np.array(point_position)\n",
    "    point_camera_position = np.dot(basis_inv, point_world_position) + translation_inv\n",
    "    point_camera_position_homogenous = np.append(point_camera_position, 1)\n",
    "    projection_matrix = np.array([[(fx/ox), 0, 0, 0],\n",
    "                              [0, (fy/oy), 0, 0],\n",
    "                              [0, 0, -1, -1],\n",
    "                              [0, 0, 0, 0]]).T\n",
    "    projected_point_homogenous = np.dot(projection_matrix, point_camera_position_homogenous)\n",
    "    projected_point = projected_point_homogenous[:2] / projected_point_homogenous[3]\n",
    "    image_pixel_coordinates = np.array([(projected_point[0] * 0.5 + 0.5) * 2 * ox, (-projected_point[1] * 0.5 + 0.5) * 2 * oy])\n",
    "    return image_pixel_coordinates"
   ]
  },
  {
   "cell_type": "code",
   "execution_count": 34,
   "metadata": {},
   "outputs": [
    {
     "name": "stdout",
     "output_type": "stream",
     "text": [
      "[362.49645924  35.27510267]\n"
     ]
    }
   ],
   "source": [
    "int_matrix = np.array([[421.32885985,   0,         576.23080988],\n",
    "                [  0,         421.18511044, 323.80923872],\n",
    "                [  0,           0,           1        ]])\n",
    "camera_rotation = [-3, -50, 153]\n",
    "camera_translation = [3, 2, 4]\n",
    "point = [1, 1, 1]\n",
    "\n",
    "print(unproject_position(int_matrix, camera_rotation, camera_translation, point))\n"
   ]
  }
 ],
 "metadata": {
  "kernelspec": {
   "display_name": "Python 3",
   "language": "python",
   "name": "python3"
  },
  "language_info": {
   "codemirror_mode": {
    "name": "ipython",
    "version": 3
   },
   "file_extension": ".py",
   "mimetype": "text/x-python",
   "name": "python",
   "nbconvert_exporter": "python",
   "pygments_lexer": "ipython3",
   "version": "3.11.6"
  }
 },
 "nbformat": 4,
 "nbformat_minor": 2
}
