{
 "cells": [
  {
   "cell_type": "code",
   "execution_count": null,
   "metadata": {},
   "outputs": [],
   "source": [
    "import numpy as np\n",
    "import cv2\n",
    "import glob"
   ]
  },
  {
   "cell_type": "code",
   "execution_count": null,
   "metadata": {},
   "outputs": [],
   "source": [
    "np.set_printoptions(suppress=True)"
   ]
  },
  {
   "cell_type": "code",
   "execution_count": null,
   "metadata": {},
   "outputs": [],
   "source": [
    "criteria = (cv2.TERM_CRITERIA_EPS + cv2.TERM_CRITERIA_MAX_ITER, 30, 0.001)\n",
    " \n",
    "# prepare object points, like (0,0,0), (1,0,0), (2,0,0) ....,(6,5,0)\n",
    "objp = np.zeros((7*6,3), np.float32)\n",
    "objp[:,:2] = np.mgrid[0:7,0:6].T.reshape(-1,2)\n",
    "print(objp)\n",
    "# Arrays to store object points and image points from all the images.\n",
    "objpoints = [] # 3d point in real world space\n",
    "imgpoints = [] # 2d points in image plane."
   ]
  },
  {
   "cell_type": "code",
   "execution_count": null,
   "metadata": {},
   "outputs": [],
   "source": [
    "imgs = glob.glob('Images/*.png')\n",
    "\n",
    "used = []\n",
    "for fname in imgs:\n",
    "    img = cv2.imread(fname)\n",
    "    gray = cv2.cvtColor(img, cv2.COLOR_BGR2GRAY)\n",
    "\n",
    "    ret, corners = cv2.findChessboardCorners(img, (7, 6), None)\n",
    "\n",
    "    if ret == True:\n",
    "        used.append(fname)\n",
    "        objpoints.append(objp)\n",
    "        corners = np.sort(corners, axis=1)\n",
    "        print(corners)\n",
    "        corners2 = cv2.cornerSubPix(gray, corners, (11, 11), (-1, -1), criteria)\n",
    "        imgpoints.append(corners2)\n",
    "\n",
    "        cv2.drawChessboardCorners(img, (7, 6), corners2, ret)\n",
    "        cv2.imshow(fname, img)\n",
    "        if cv2.waitKey() == 27:\n",
    "            cv2.destroyAllWindows()"
   ]
  },
  {
   "cell_type": "code",
   "execution_count": 45,
   "metadata": {},
   "outputs": [
    {
     "name": "stdout",
     "output_type": "stream",
     "text": [
      "[[[659.5 494. ]]\n",
      "\n",
      " [[614.5 467.5]]\n",
      "\n",
      " [[568.  441.5]]\n",
      "\n",
      " [[523.  414.5]]\n",
      "\n",
      " [[476.5 388.5]]\n",
      "\n",
      " [[431.  362. ]]\n",
      "\n",
      " [[385.5 335.5]]\n",
      "\n",
      " [[686.  448.5]]\n",
      "\n",
      " [[640.5 422.5]]\n",
      "\n",
      " [[594.5 395.5]]\n",
      "\n",
      " [[549.  369.5]]\n",
      "\n",
      " [[503.5 343. ]]\n",
      "\n",
      " [[457.5 316.5]]\n",
      "\n",
      " [[411.5 290.5]]\n",
      "\n",
      " [[712.5 402.5]]\n",
      "\n",
      " [[666.5 376. ]]\n",
      "\n",
      " [[621.  350. ]]\n",
      "\n",
      " [[575.5 323.5]]\n",
      "\n",
      " [[529.5 297. ]]\n",
      "\n",
      " [[484.5 271. ]]\n",
      "\n",
      " [[438.  244. ]]\n",
      "\n",
      " [[738.5 357. ]]\n",
      "\n",
      " [[693.5 331. ]]\n",
      "\n",
      " [[647.  304.5]]\n",
      "\n",
      " [[601.5 278. ]]\n",
      "\n",
      " [[555.5 251.5]]\n",
      "\n",
      " [[510.5 225.5]]\n",
      "\n",
      " [[464.5 199. ]]\n",
      "\n",
      " [[765.5 311.5]]\n",
      "\n",
      " [[720.  285. ]]\n",
      "\n",
      " [[674.  258.5]]\n",
      "\n",
      " [[628.  232. ]]\n",
      "\n",
      " [[582.5 205.5]]\n",
      "\n",
      " [[537.  179. ]]\n",
      "\n",
      " [[491.  152.5]]\n",
      "\n",
      " [[791.5 265.5]]\n",
      "\n",
      " [[746.  239.5]]\n",
      "\n",
      " [[700.  212.5]]\n",
      "\n",
      " [[654.5 186.5]]\n",
      "\n",
      " [[608.5 160.5]]\n",
      "\n",
      " [[563.  134. ]]\n",
      "\n",
      " [[517.  107.5]]]\n"
     ]
    },
    {
     "ename": "IndexError",
     "evalue": "index 1 is out of bounds for axis 1 with size 1",
     "output_type": "error",
     "traceback": [
      "\u001b[1;31m---------------------------------------------------------------------------\u001b[0m",
      "\u001b[1;31mIndexError\u001b[0m                                Traceback (most recent call last)",
      "Cell \u001b[1;32mIn[45], line 10\u001b[0m\n\u001b[0;32m      8\u001b[0m objpoints\u001b[38;5;241m.\u001b[39mappend(objp)\n\u001b[0;32m      9\u001b[0m \u001b[38;5;28mprint\u001b[39m(corners)\n\u001b[1;32m---> 10\u001b[0m corners \u001b[38;5;241m=\u001b[39m np\u001b[38;5;241m.\u001b[39mlexsort((\u001b[43mcorners\u001b[49m\u001b[43m[\u001b[49m\u001b[43m:\u001b[49m\u001b[43m,\u001b[49m\u001b[43m \u001b[49m\u001b[38;5;241;43m1\u001b[39;49m\u001b[43m]\u001b[49m, corners[:, \u001b[38;5;241m0\u001b[39m]))\n\u001b[0;32m     11\u001b[0m corners2 \u001b[38;5;241m=\u001b[39m cv2\u001b[38;5;241m.\u001b[39mcornerSubPix(gray, corners, (\u001b[38;5;241m11\u001b[39m, \u001b[38;5;241m11\u001b[39m), (\u001b[38;5;241m-\u001b[39m\u001b[38;5;241m1\u001b[39m, \u001b[38;5;241m-\u001b[39m\u001b[38;5;241m1\u001b[39m), criteria)\n\u001b[0;32m     12\u001b[0m imgpoints\u001b[38;5;241m.\u001b[39mappend(corners2)\n",
      "\u001b[1;31mIndexError\u001b[0m: index 1 is out of bounds for axis 1 with size 1"
     ]
    }
   ],
   "source": [
    "objpoints = [] # 3d point in real world space\n",
    "imgpoints = [] # 2d points in image plane.\n",
    "fname = \"Images/img10.png\"\n",
    "img = cv2.imread(fname)\n",
    "gray = cv2.cvtColor(img, cv2.COLOR_BGR2GRAY)\n",
    "ret, corners = cv2.findChessboardCorners(gray, (7, 6), None)\n",
    "if ret == True:\n",
    "    objpoints.append(objp)\n",
    "    print(corners)\n",
    "    corners = np.lexsort((corners[:, 1], corners[:, 0]))\n",
    "    corners2 = cv2.cornerSubPix(gray, corners, (11, 11), (-1, -1), criteria)\n",
    "    imgpoints.append(corners2)\n",
    "    print(corners2)\n",
    "    cv2.drawChessboardCorners(img, (7, 6), corners2, ret)\n",
    "    cv2.imshow(fname, img)\n",
    "    if cv2.waitKey() == 27:\n",
    "        cv2.destroyAllWindows()"
   ]
  },
  {
   "cell_type": "code",
   "execution_count": null,
   "metadata": {},
   "outputs": [],
   "source": []
  },
  {
   "cell_type": "code",
   "execution_count": null,
   "metadata": {},
   "outputs": [],
   "source": [
    "print(corners)\n",
    "print(corners2)"
   ]
  },
  {
   "cell_type": "code",
   "execution_count": null,
   "metadata": {},
   "outputs": [],
   "source": [
    "ret, mtx, dist, rvecs, tvecs = cv2.calibrateCamera(objpoints, imgpoints, gray.shape[::-1], None, None)\n",
    "print(ret)\n",
    "print(mtx)\n",
    "print(dist)\n",
    "print(rvecs)\n",
    "print(tvecs)"
   ]
  },
  {
   "cell_type": "code",
   "execution_count": null,
   "metadata": {},
   "outputs": [],
   "source": [
    "fx, fy, ox, oy = mtx[0, 0], mtx[1, 1], mtx[0, 2], mtx[1, 2]\n",
    "print(fx, fy, ox, oy)"
   ]
  },
  {
   "cell_type": "code",
   "execution_count": null,
   "metadata": {},
   "outputs": [],
   "source": [
    "x = 0\n"
   ]
  }
 ],
 "metadata": {
  "kernelspec": {
   "display_name": "Python 3",
   "language": "python",
   "name": "python3"
  },
  "language_info": {
   "codemirror_mode": {
    "name": "ipython",
    "version": 3
   },
   "file_extension": ".py",
   "mimetype": "text/x-python",
   "name": "python",
   "nbconvert_exporter": "python",
   "pygments_lexer": "ipython3",
   "version": "3.11.6"
  }
 },
 "nbformat": 4,
 "nbformat_minor": 2
}
